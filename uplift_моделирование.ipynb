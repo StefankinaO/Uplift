{
  "nbformat": 4,
  "nbformat_minor": 0,
  "metadata": {
    "colab": {
      "name": "uplift-моделирование.ipynb",
      "provenance": [],
      "collapsed_sections": []
    },
    "kernelspec": {
      "name": "python3",
      "display_name": "Python 3"
    },
    "language_info": {
      "name": "python"
    },
    "accelerator": "GPU"
  },
  "cells": [
    {
      "cell_type": "markdown",
      "metadata": {
        "id": "oqRZvPYw8xzC"
      },
      "source": [
        "Источники:\n",
        "https://linuxtut.com/en/7b91474430c1f190c470/"
      ]
    },
    {
      "cell_type": "code",
      "metadata": {
        "id": "_GhNyETSvD73"
      },
      "source": [
        "import sys\n",
        "import os\n",
        "import shutil\n",
        "import pandas as pd\n",
        "import requests\n",
        "from sklearn.utils import Bunch\n",
        "from tqdm.auto import tqdm"
      ],
      "execution_count": 1,
      "outputs": []
    },
    {
      "cell_type": "code",
      "metadata": {
        "colab": {
          "base_uri": "https://localhost:8080/"
        },
        "id": "YwcpUl_UiudZ",
        "outputId": "f85a40c3-8572-46e2-9afa-6d27459942c7"
      },
      "source": [
        "# install uplift library scikit-uplift and other libraries \n",
        "!{sys.executable} -m pip install scikit-uplift catboost pandas"
      ],
      "execution_count": 2,
      "outputs": [
        {
          "output_type": "stream",
          "name": "stdout",
          "text": [
            "Collecting scikit-uplift\n",
            "  Downloading scikit_uplift-0.4.0-py3-none-any.whl (38 kB)\n",
            "Collecting catboost\n",
            "  Downloading catboost-1.0.0-cp37-none-manylinux1_x86_64.whl (76.4 MB)\n",
            "\u001b[K     |████████████████████████████████| 76.4 MB 27 kB/s \n",
            "\u001b[?25hRequirement already satisfied: pandas in /usr/local/lib/python3.7/dist-packages (1.1.5)\n",
            "Requirement already satisfied: scikit-learn>=0.21.0 in /usr/local/lib/python3.7/dist-packages (from scikit-uplift) (0.22.2.post1)\n",
            "Requirement already satisfied: matplotlib in /usr/local/lib/python3.7/dist-packages (from scikit-uplift) (3.2.2)\n",
            "Requirement already satisfied: requests in /usr/local/lib/python3.7/dist-packages (from scikit-uplift) (2.23.0)\n",
            "Requirement already satisfied: numpy>=1.16 in /usr/local/lib/python3.7/dist-packages (from scikit-uplift) (1.19.5)\n",
            "Requirement already satisfied: tqdm in /usr/local/lib/python3.7/dist-packages (from scikit-uplift) (4.62.3)\n",
            "Requirement already satisfied: scipy>=0.17.0 in /usr/local/lib/python3.7/dist-packages (from scikit-learn>=0.21.0->scikit-uplift) (1.4.1)\n",
            "Requirement already satisfied: joblib>=0.11 in /usr/local/lib/python3.7/dist-packages (from scikit-learn>=0.21.0->scikit-uplift) (1.0.1)\n",
            "Requirement already satisfied: six in /usr/local/lib/python3.7/dist-packages (from catboost) (1.15.0)\n",
            "Requirement already satisfied: plotly in /usr/local/lib/python3.7/dist-packages (from catboost) (4.4.1)\n",
            "Requirement already satisfied: graphviz in /usr/local/lib/python3.7/dist-packages (from catboost) (0.10.1)\n",
            "Requirement already satisfied: python-dateutil>=2.7.3 in /usr/local/lib/python3.7/dist-packages (from pandas) (2.8.2)\n",
            "Requirement already satisfied: pytz>=2017.2 in /usr/local/lib/python3.7/dist-packages (from pandas) (2018.9)\n",
            "Requirement already satisfied: pyparsing!=2.0.4,!=2.1.2,!=2.1.6,>=2.0.1 in /usr/local/lib/python3.7/dist-packages (from matplotlib->scikit-uplift) (2.4.7)\n",
            "Requirement already satisfied: kiwisolver>=1.0.1 in /usr/local/lib/python3.7/dist-packages (from matplotlib->scikit-uplift) (1.3.2)\n",
            "Requirement already satisfied: cycler>=0.10 in /usr/local/lib/python3.7/dist-packages (from matplotlib->scikit-uplift) (0.10.0)\n",
            "Requirement already satisfied: retrying>=1.3.3 in /usr/local/lib/python3.7/dist-packages (from plotly->catboost) (1.3.3)\n",
            "Requirement already satisfied: idna<3,>=2.5 in /usr/local/lib/python3.7/dist-packages (from requests->scikit-uplift) (2.10)\n",
            "Requirement already satisfied: urllib3!=1.25.0,!=1.25.1,<1.26,>=1.21.1 in /usr/local/lib/python3.7/dist-packages (from requests->scikit-uplift) (1.24.3)\n",
            "Requirement already satisfied: chardet<4,>=3.0.2 in /usr/local/lib/python3.7/dist-packages (from requests->scikit-uplift) (3.0.4)\n",
            "Requirement already satisfied: certifi>=2017.4.17 in /usr/local/lib/python3.7/dist-packages (from requests->scikit-uplift) (2021.5.30)\n",
            "Installing collected packages: scikit-uplift, catboost\n",
            "Successfully installed catboost-1.0.0 scikit-uplift-0.4.0\n"
          ]
        }
      ]
    },
    {
      "cell_type": "code",
      "metadata": {
        "id": "YLlgfPzUvPei"
      },
      "source": [
        "def _download(url, dest_path, content_length_header_key='Content-Length'):\n",
        "    \"\"\"Download the file from url and save it locally.\n",
        "    Args:\n",
        "        url (str): URL address, must be a string.\n",
        "        dest_path (str): Destination of the file.\n",
        "        content_length_header_key (str): The key in the HTTP response headers that lists the response size in bytes.\n",
        "            Used for progress bar.\n",
        "    \"\"\"\n",
        "    if isinstance(url, str):\n",
        "        req = requests.get(url, stream=True)\n",
        "        req.raise_for_status()\n",
        "\n",
        "        with open(dest_path, \"wb\") as fd:\n",
        "            total_size_in_bytes = int(req.headers.get(content_length_header_key, 0))\n",
        "            progress_bar = tqdm(total=total_size_in_bytes, unit='iB', unit_scale=True)\n",
        "            for chunk in req.iter_content(chunk_size=2 ** 20):\n",
        "                progress_bar.update(len(chunk))\n",
        "                fd.write(chunk)\n",
        "    else:\n",
        "        raise TypeError(\"URL must be a string\")"
      ],
      "execution_count": 3,
      "outputs": []
    },
    {
      "cell_type": "code",
      "metadata": {
        "id": "1F8NVH5gvK6G"
      },
      "source": [
        "def _create_data_dir(path):\n",
        "    \"\"\"Creates a directory, which stores the datasets.\n",
        "    Args:\n",
        "        path (str): The path to scikit-uplift data dir.\n",
        "    \"\"\"\n",
        "    if not os.path.isdir(path):\n",
        "        os.makedirs(path)"
      ],
      "execution_count": 4,
      "outputs": []
    },
    {
      "cell_type": "code",
      "metadata": {
        "id": "Qh2JKQ4du9oS"
      },
      "source": [
        "def get_data_dir():\n",
        "    \"\"\"Return the path of the scikit-uplift data dir.\n",
        "    This folder is used by some large dataset loaders to avoid downloading the data several times.\n",
        "    By default the data dir is set to a folder named ``scikit-uplift-data`` in the user home folder.\n",
        "    Returns:\n",
        "        string: The path to scikit-uplift data dir.\n",
        "    \"\"\"\n",
        "    return os.path.join(os.path.expanduser(\"~\"), \"scikit-uplift-data\")"
      ],
      "execution_count": 5,
      "outputs": []
    },
    {
      "cell_type": "code",
      "metadata": {
        "id": "uzejfX8Hu1Sn"
      },
      "source": [
        "def _get_data(data_home, url, dest_subdir, dest_filename, download_if_missing,\n",
        "              content_length_header_key='Content-Length'):\n",
        "    \"\"\"Return the path to the dataset.\n",
        "    Args:\n",
        "        data_home (str): The path to scikit-uplift data dir.\n",
        "        url (str): The URL to the dataset.\n",
        "        dest_subdir (str): The name of the folder in which the dataset is stored.\n",
        "        dest_filename (str): The name of the dataset.\n",
        "        download_if_missing (bool): If False, raise a IOError if the data is not locally available instead of\n",
        "            trying to download the data from the source site.\n",
        "        content_length_header_key (str): The key in the HTTP response headers that lists the response size in bytes.\n",
        "            Used for progress bar.\n",
        "    Returns:\n",
        "        string: The path to the dataset.\n",
        "    \"\"\"\n",
        "    if data_home is None:\n",
        "        if dest_subdir is None:\n",
        "            data_dir = get_data_dir()\n",
        "        else:\n",
        "            data_dir = os.path.join(get_data_dir(), dest_subdir)\n",
        "    else:\n",
        "        if dest_subdir is None:\n",
        "            data_dir = os.path.abspath(data_home)\n",
        "        else:\n",
        "            data_dir = os.path.join(os.path.abspath(data_home), dest_subdir)\n",
        "\n",
        "    _create_data_dir(data_dir)\n",
        "\n",
        "    dest_path = os.path.join(data_dir, dest_filename)\n",
        "    print(not os.path.isfile(dest_path))\n",
        "    if not os.path.isfile(dest_path):\n",
        "        if download_if_missing:\n",
        "            _download(url, dest_path, content_length_header_key)\n",
        "        else:\n",
        "            raise IOError(\"Dataset missing\")\n",
        "    return dest_path"
      ],
      "execution_count": 6,
      "outputs": []
    },
    {
      "cell_type": "code",
      "metadata": {
        "id": "k1k9XITEpuvF"
      },
      "source": [
        "def fetch_x5(data_home=None, dest_subdir=None, download_if_missing=True):\n",
        "    \"\"\"Load and return the X5 RetailHero dataset (classification).\n",
        "    The dataset contains raw retail customer purchases, raw information about products and general info about customers.\n",
        "    Major columns:\n",
        "    - ``treatment_flg`` (binary): treatment/control group flag\n",
        "    - ``target`` (binary): target\n",
        "    - ``customer_id`` (str): customer id - primary key for joining\n",
        "    Read more in the :ref:`docs <X5>`.\n",
        "    Args:\n",
        "        data_home (str, unicode): The path to the folder where datasets are stored.\n",
        "        dest_subdir (str, unicode): The name of the folder in which the dataset is stored.\n",
        "        download_if_missing (bool): Download the data if not present. Raises an IOError if False and data is missing\n",
        "    Returns:\n",
        "        Bunch: dataset.\n",
        "         Dictionary-like object, with the following attributes.\n",
        "            * ``data`` (Bunch object): dictionary-like object without target and treatment:\n",
        "                * ``clients`` (ndarray or DataFrame object): General info about clients.\n",
        "                * ``train`` (ndarray or DataFrame object): A subset of clients for training.\n",
        "                * ``purchases`` (ndarray or DataFrame object): clients’ purchase history prior to communication.\n",
        "            * ``target`` (Series object): Column target by values.\n",
        "            * ``treatment`` (Series object): Column treatment by values.\n",
        "            * ``DESCR`` (str): Description of the X5 dataset.\n",
        "            * ``feature_names`` (Bunch object): Names of the features.\n",
        "            * ``target_name`` (str): Name of the target.\n",
        "            * ``treatment_name`` (str): Name of the treatment.\n",
        "    References:\n",
        "        https://ods.ai/competitions/x5-retailhero-uplift-modeling/data\n",
        "    Example::\n",
        "        from sklift.datasets import fetch_x5\n",
        "        dataset = fetch_x5()\n",
        "        data, target, treatment = dataset.data, dataset.target, dataset.treatment\n",
        "        # data - dictionary-like object\n",
        "        # data contains general info about clients:\n",
        "        clients = data.clients\n",
        "        # data contains a subset of clients for training:\n",
        "        train = data.train\n",
        "        # data contains a clients’ purchase history prior to communication.\n",
        "        purchases = data.purchases\n",
        "    See Also:\n",
        "        :func:`.fetch_lenta`: Load and return the Lenta dataset (classification).\n",
        "        :func:`.fetch_criteo`: Load and return the Criteo Uplift Prediction Dataset (classification).\n",
        "        :func:`.fetch_hillstrom`: Load and return Kevin Hillstrom Dataset MineThatData (classification or regression).\n",
        "        :func:`.fetch_megafon`: Load and return the MegaFon Uplift Competition dataset (classification).\n",
        "    \"\"\"\n",
        "    #print(csv_train_path)\n",
        "    train = pd.read_csv('/content/drive/MyDrive/uplift_data/uplift_train.csv')\n",
        "    train_features = list(train.columns)\n",
        "\n",
        "    #print(train_features)\n",
        "    target_col = 'target'\n",
        "    treatment_col = 'treatment_flg'\n",
        "\n",
        "    treatment, target = train[treatment_col], train[target_col]\n",
        "\n",
        "    train = train.drop([target_col, treatment_col], axis=1)\n",
        "\n",
        "    clients = pd.read_csv('/content/drive/MyDrive/uplift_data/clients.csv')\n",
        "    clients_features = list(clients.columns)\n",
        "\n",
        "\n",
        "    purchases = pd.read_csv('/content/drive/MyDrive/uplift_data/purchases.csv')\n",
        "    purchases_features = list(purchases.columns)\n",
        "\n",
        "    data = Bunch(clients=clients, train=train, purchases=purchases)\n",
        "    feature_names = Bunch(train_features=train_features, clients_features=clients_features,\n",
        "                          purchases_features=purchases_features)\n",
        "\n",
        "    module_path = os.path.dirname('__file__')\n",
        "    with open(os.path.join(module_path, 'descr', 'x5.rst')) as rst_file:\n",
        "        fdescr = rst_file.read()\n",
        "\n",
        "    return Bunch(data=data, target=target, treatment=treatment, DESCR=fdescr,\n",
        "                 feature_names=feature_names, target_name='target', treatment_name='treatment_flg')"
      ],
      "execution_count": 7,
      "outputs": []
    },
    {
      "cell_type": "code",
      "metadata": {
        "id": "Ge_hObWdnaD8"
      },
      "source": [
        "from sklearn.model_selection import train_test_split\n",
        "#from sklift.datasets import fetch_x5\n",
        "import pandas as pd\n",
        "import sklift\n",
        "pd.set_option('display.max_columns', None)\n",
        "%matplotlib inline"
      ],
      "execution_count": 8,
      "outputs": []
    },
    {
      "cell_type": "code",
      "metadata": {
        "colab": {
          "base_uri": "https://localhost:8080/"
        },
        "id": "ceWM2qVXnsCI",
        "outputId": "a8068b6d-9e08-47d0-f710-3ce6272244ff"
      },
      "source": [
        "dataset = fetch_x5()\n",
        "dataset.data.keys()"
      ],
      "execution_count": 9,
      "outputs": [
        {
          "output_type": "execute_result",
          "data": {
            "text/plain": [
              "dict_keys(['clients', 'train', 'purchases'])"
            ]
          },
          "metadata": {},
          "execution_count": 9
        }
      ]
    },
    {
      "cell_type": "markdown",
      "metadata": {
        "id": "a77sCG2v9f0E"
      },
      "source": [
        "Сводная информация о данных (их размер)"
      ]
    },
    {
      "cell_type": "code",
      "metadata": {
        "colab": {
          "base_uri": "https://localhost:8080/"
        },
        "id": "I-ha3Bo09XNT",
        "outputId": "efd0bdac-c2f4-42ef-9266-1823a4eeeeef"
      },
      "source": [
        "print(f\"Dataset type: {type(dataset)}\\n\")\n",
        "print(f\"Dataset features shape: {dataset.data['clients'].shape}\")\n",
        "print(f\"Dataset features shape: {dataset.data['train'].shape}\")\n",
        "print(f\"Dataset target shape: {dataset.target.shape}\")\n",
        "print(f\"Dataset treatment shape: {dataset.treatment.shape}\")"
      ],
      "execution_count": 10,
      "outputs": [
        {
          "output_type": "stream",
          "name": "stdout",
          "text": [
            "Dataset type: <class 'sklearn.utils.Bunch'>\n",
            "\n",
            "Dataset features shape: (400162, 5)\n",
            "Dataset features shape: (200039, 1)\n",
            "Dataset target shape: (200039,)\n",
            "Dataset treatment shape: (200039,)\n"
          ]
        }
      ]
    },
    {
      "cell_type": "markdown",
      "metadata": {
        "id": "63LYYaRABnuT"
      },
      "source": [
        "Предобработка данных"
      ]
    },
    {
      "cell_type": "code",
      "metadata": {
        "id": "TqrmZjxj9ZdW"
      },
      "source": [
        "# Извлечение данных\n",
        "df_clients = dataset.data['clients'].set_index(\"client_id\")\n",
        "df_train = pd.concat([dataset.data['train'], dataset.treatment , dataset.target], axis=1).set_index(\"client_id\")\n",
        "indices_test = pd.Index(set(df_clients.index) - set(df_train.index))\n",
        "\n",
        "# Извлечение признаков\n",
        "df_features = df_clients.copy()\n",
        "df_features['first_issue_time'] = \\\n",
        "    (pd.to_datetime(df_features['first_issue_date'])\n",
        "     - pd.Timestamp('1970-01-01')) // pd.Timedelta('1s')\n",
        "df_features['first_redeem_time'] = \\\n",
        "    (pd.to_datetime(df_features['first_redeem_date'])\n",
        "     - pd.Timestamp('1970-01-01')) // pd.Timedelta('1s')\n",
        "df_features['issue_redeem_delay'] = df_features['first_redeem_time'] \\\n",
        "    - df_features['first_issue_time']\n",
        "df_features = df_features.drop(['first_issue_date', 'first_redeem_date'], axis=1)\n",
        "\n",
        "indices_learn, indices_valid = train_test_split(df_train.index, test_size=0.3, random_state=123)"
      ],
      "execution_count": 11,
      "outputs": []
    },
    {
      "cell_type": "markdown",
      "metadata": {
        "id": "mLQMGT4_9qj9"
      },
      "source": [
        "Объявление переменных"
      ]
    },
    {
      "cell_type": "code",
      "metadata": {
        "id": "7ZzDgkzGBkAs"
      },
      "source": [
        "X_train = df_features.loc[indices_learn, :]\n",
        "y_train = df_train.loc[indices_learn, 'target']\n",
        "treat_train = df_train.loc[indices_learn, 'treatment_flg']\n",
        "\n",
        "X_val = df_features.loc[indices_valid, :]\n",
        "y_val = df_train.loc[indices_valid, 'target']\n",
        "treat_val =  df_train.loc[indices_valid, 'treatment_flg']\n",
        "\n",
        "X_train_full = df_features.loc[df_train.index, :]\n",
        "y_train_full = df_train.loc[:, 'target']\n",
        "treat_train_full = df_train.loc[:, 'treatment_flg']\n",
        "\n",
        "X_test = df_features.loc[indices_test, :]\n",
        "\n",
        "#категориальная переменная\n",
        "cat_features = ['gender']\n",
        "\n",
        "models_results = {\n",
        "    'approach': [],\n",
        "    'uplift@30%': []\n",
        "}"
      ],
      "execution_count": 12,
      "outputs": []
    },
    {
      "cell_type": "markdown",
      "metadata": {
        "id": "1gMplfd_9uCb"
      },
      "source": [
        "## 1. Подходы с одной моделью\n",
        "\n",
        "### 1.1 Одна модель с признаком коммуникации\n",
        "\n",
        "Самое простое и интуитивное решение: модель обучается одновременно на двух группах, при этом бинарный флаг коммуникации выступает в качестве дополнительного признака. Каждый объект из тестовой выборки скорим дважды: с флагом коммуникации равным 1 и равным 0. Вычитая вероятности по каждому наблюдению, получим искомы uplift.\n",
        "\n",
        "\n",
        "<p align=\"center\">\n",
        "  <img src=\"https://raw.githubusercontent.com/maks-sh/scikit-uplift/master/docs/_static/images/SoloModel_RU.png\" alt=\"Solo model with treatment as a feature\"/>\n",
        "</p>"
      ]
    },
    {
      "cell_type": "code",
      "metadata": {
        "colab": {
          "base_uri": "https://localhost:8080/",
          "height": 444
        },
        "id": "CWJ7zxlj9xwW",
        "outputId": "57e19396-c3f9-4876-f2c9-ef9ce4aa5242"
      },
      "source": [
        "# Инструкция по установке пакета: https://github.com/maks-sh/scikit-uplift\n",
        "# Ссылка на документацию: https://scikit-uplift.readthedocs.io/en/latest/\n",
        "from sklift.metrics import uplift_at_k\n",
        "from sklift.viz import plot_uplift_preds\n",
        "from sklift.models import SoloModel\n",
        "\n",
        "# sklift поддерживает любые модели, \n",
        "# которые удовлетворяют соглашениями scikit-learn\n",
        "# Для примера воспользуемся catboost\n",
        "from catboost import CatBoostClassifier\n",
        "#Каждый объект из тестовой выборки скорим дважды: с флагом коммуникации равным 1 и равным 0. Вычитая вероятности по каждому наблюдению, получим искомы uplift.\n",
        "sm = SoloModel(CatBoostClassifier(iterations=20, thread_count=2, random_state=42, silent=True))\n",
        "#Обучение модель в соответствии с заданными данными обучения. Для каждого тестового примера рассчитайте прогнозы для нового набора дважды: по первой и второй моделям. \n",
        "#После этого рассчитайте подъем как дельту между этими прогнозами. Возвращает дельту прогнозов для каждого примера.\n",
        "#Вектор двоичной обработки относительно X.\n",
        "#Параметры для передачи в метод подгонки оценщика.\n",
        "sm = sm.fit(X_train, y_train, treat_train, estimator_fit_params={'cat_features': cat_features})\n",
        "\n",
        "uplift_sm = sm.predict(X_val)\n",
        "#Вычислите uplift для первых k наблюдений путем увеличения всей выборки.\n",
        "sm_score = uplift_at_k(y_true=y_val, uplift=uplift_sm, treatment=treat_val, strategy='by_group', k=0.3)\n",
        "\n",
        "models_results['approach'].append('SoloModel')\n",
        "models_results['uplift@30%'].append(sm_score)\n",
        "\n",
        "# Получим условные вероятности выполнения целевого действия при взаимодействии для каждого объекта\n",
        "sm_trmnt_preds = sm.trmnt_preds_\n",
        "# И условные вероятности выполнения целевого действия без взаимодействия для каждого объекта\n",
        "sm_ctrl_preds = sm.ctrl_preds_\n",
        "\n",
        "# Отрисуем распределения вероятностей и их разность (uplift)\n",
        "plot_uplift_preds(trmnt_preds=sm_trmnt_preds, ctrl_preds=sm_ctrl_preds);"
      ],
      "execution_count": 13,
      "outputs": [
        {
          "output_type": "display_data",
          "data": {
            "image/png": "[encoded data removed]",
            "text/plain": [
              "<Figure size 1440x504 with 3 Axes>"
            ]
          },
          "metadata": {
            "needs_background": "light"
          }
        }
      ]
    },
    {
      "cell_type": "code",
      "metadata": {
        "colab": {
          "base_uri": "https://localhost:8080/"
        },
        "id": "ITxqWFCS9ef2",
        "outputId": "c7871c5b-08cc-4926-ad14-6203ba9473cf"
      },
      "source": [
        "X_train_cat_boost = X_train.replace('F', 1).replace(\"M\", 0).replace(\"U\", 2)\n",
        "X_train_cat_boost\n",
        "X_val_cat_boost = X_val.replace('F', 1).replace(\"M\", 0).replace(\"U\", 2)\n"
      ],
      "execution_count": 15,
      "outputs": [
        {
          "output_type": "stream",
          "name": "stdout",
          "text": [
            "0.05726192634218552 0.16666666666666669\n"
          ]
        }
      ]
    },
    {
      "cell_type": "code",
      "metadata": {
        "colab": {
          "base_uri": "https://localhost:8080/"
        },
        "id": "2KSu_CuM7D-K",
        "outputId": "e21324e1-031d-4766-9f80-91c9e7b66693"
      },
      "source": [
        "model_cat_boost = CatBoostClassifier(iterations=20, thread_count=2, random_state=42, silent=True)\n",
        "model_cat_boost.fit(X_train_cat_boost, y_train)\n",
        "upflit_sm_cat_boost = model_cat_boost.predict(X_val_cat_boost)\n",
        "sm_score_cat_boost = uplift_at_k(y_true=y_val, uplift=upflit_sm_cat_boost, treatment=treat_val, strategy='by_group', k=0.3)\n",
        "print(sm_score, sm_score_cat_boost)"
      ],
      "execution_count": 17,
      "outputs": [
        {
          "output_type": "stream",
          "name": "stdout",
          "text": [
            "0.05726192634218552 0.03757036969898386\n"
          ]
        }
      ]
    },
    {
      "cell_type": "code",
      "metadata": {
        "colab": {
          "base_uri": "https://localhost:8080/",
          "height": 234
        },
        "id": "SkgmEgS7BsHh",
        "outputId": "aa8eeddd-c683-40c1-9da3-abf870aae0d5"
      },
      "source": [
        "# С той же легкостью можно обратиться к обученной модели.\n",
        "# Например, чтобы построить важность признаков:\n",
        "sm_fi = pd.DataFrame({\n",
        "    'feature_name': sm.estimator.feature_names_,\n",
        "    'feature_score': sm.estimator.feature_importances_\n",
        "}).sort_values('feature_score', ascending=False).reset_index(drop=True)\n",
        "\n",
        "sm_fi"
      ],
      "execution_count": 18,
      "outputs": [
        {
          "output_type": "execute_result",
          "data": {
            "text/html": [
              "<div>\n",
              "<style scoped>\n",
              "    .dataframe tbody tr th:only-of-type {\n",
              "        vertical-align: middle;\n",
              "    }\n",
              "\n",
              "    .dataframe tbody tr th {\n",
              "        vertical-align: top;\n",
              "    }\n",
              "\n",
              "    .dataframe thead th {\n",
              "        text-align: right;\n",
              "    }\n",
              "</style>\n",
              "<table border=\"1\" class=\"dataframe\">\n",
              "  <thead>\n",
              "    <tr style=\"text-align: right;\">\n",
              "      <th></th>\n",
              "      <th>feature_name</th>\n",
              "      <th>feature_score</th>\n",
              "    </tr>\n",
              "  </thead>\n",
              "  <tbody>\n",
              "    <tr>\n",
              "      <th>0</th>\n",
              "      <td>first_redeem_time</td>\n",
              "      <td>41.162563</td>\n",
              "    </tr>\n",
              "    <tr>\n",
              "      <th>1</th>\n",
              "      <td>issue_redeem_delay</td>\n",
              "      <td>38.676225</td>\n",
              "    </tr>\n",
              "    <tr>\n",
              "      <th>2</th>\n",
              "      <td>age</td>\n",
              "      <td>8.003793</td>\n",
              "    </tr>\n",
              "    <tr>\n",
              "      <th>3</th>\n",
              "      <td>first_issue_time</td>\n",
              "      <td>6.274424</td>\n",
              "    </tr>\n",
              "    <tr>\n",
              "      <th>4</th>\n",
              "      <td>treatment</td>\n",
              "      <td>3.431789</td>\n",
              "    </tr>\n",
              "    <tr>\n",
              "      <th>5</th>\n",
              "      <td>gender</td>\n",
              "      <td>2.451207</td>\n",
              "    </tr>\n",
              "  </tbody>\n",
              "</table>\n",
              "</div>"
            ],
            "text/plain": [
              "         feature_name  feature_score\n",
              "0   first_redeem_time      41.162563\n",
              "1  issue_redeem_delay      38.676225\n",
              "2                 age       8.003793\n",
              "3    first_issue_time       6.274424\n",
              "4           treatment       3.431789\n",
              "5              gender       2.451207"
            ]
          },
          "metadata": {},
          "execution_count": 18
        }
      ]
    },
    {
      "cell_type": "markdown",
      "metadata": {
        "id": "LevVCzHUBzQX"
      },
      "source": [
        "### 1.2 Трансформация классов\n",
        "\n",
        "Достаточно интересный и математически подтвержденный подход к построению модели, представленный еще в 2012 году. Метод заключается в прогнозировании немного измененного таргета:\n",
        "\n",
        "$$\n",
        "Z_i = Y_i \\cdot W_i + (1 - Y_i) \\cdot (1 - W_i),\n",
        "$$\n",
        "где \n",
        "\n",
        "* $Z_i$ - новая целевая переменная $i$-ого клиента; \n",
        "* $Y_i$ - целевая перемнная $i$-ого клиента;\n",
        "* $W_i$ - флаг коммуникации $i$-ого клиента;  \n",
        "\n",
        "\n",
        "Другими словами, новый класс равен 1, если мы знаем, что на конкретном наблюдении, результат при взаимодействии был бы таким же хорошим, как и в контрольной группе, если бы мы могли знать результат в обеих группах:\n",
        "\n",
        "$$\n",
        "Z_i = \\begin{cases}\n",
        "    1, & \\mbox{if } W_i = 1 \\mbox{ and } Y_i = 1 \\\\\n",
        "    1, & \\mbox{if } W_i = 0 \\mbox{ and } Y_i = 0 \\\\\n",
        "    0, & \\mbox{otherwise}\n",
        "   \\end{cases}\n",
        "$$\n",
        "\n",
        "Распишем подробнее, чему равна вероятность новой целевой переменной:\n",
        "\n",
        "$$ \n",
        "P(Z=1|X = x) = \\\\\n",
        "= P(Z=1|X = x, W = 1) \\cdot P(W = 1|X = x) + \\\\\n",
        "+ P(Z=1|X = x, W = 0) \\cdot P(W = 0|X = x) = \\\\\n",
        "= P(Y=1|X = x, W = 1) \\cdot P(W = 1|X = x) + \\\\\n",
        "+ P(Y=0|X = x, W = 0) \\cdot P(W = 0|X = x).\n",
        "$$\n",
        "\n",
        "Выше мы обсуждали, что обучающая выборка для моделирования uplift собирается на основе рандомизированного разбиения части клиенской базы на тестовую и контрольную группы. Поэтому коммуникация $ W $ не может зависить от признаков клиента $ X_1, ..., X_m $. Принимая это, мы имеем: $ P(W | X_1, ..., X_m, ) = P(W) $ и \n",
        "\n",
        "$$\n",
        "P(Z=1|X = x) = \\\\\n",
        "= P^T(Y=1|X = x) \\cdot P(W = 1) + \\\\\n",
        "+ P^C(Y=0|X = x) \\cdot P(W = 0)\n",
        "$$\n",
        "\n",
        "Также допустим, что $P(W = 1) = P(W = 0) = \\frac{1}{2}$, т.е. во время эксперимента контрольные и тестовые группы были разделены в равных пропорциях. Тогда получим следующее:\n",
        "\n",
        "$$\n",
        "P(Z=1|X = x) = \\\\\n",
        "= P^T(Y=1|X = x) \\cdot \\frac{1}{2} + P^C(Y=0|X = x) \\cdot \\frac{1}{2} \\Rightarrow \\\\\n",
        "2 \\cdot P(Z=1|X = x) = \\\\\n",
        "= P^T(Y=1|X = x) + P^C(Y=0|X = x) = \\\\\n",
        "= P^T(Y=1|X = x) + 1 - P^C(Y=1|X = x) \\Rightarrow \\\\\n",
        "\\Rightarrow P^T(Y=1|X = x) - P^C(Y=1|X = x) = \\\\\n",
        " = uplift = 2 \\cdot P(Z=1|X = x) - 1\n",
        "$$\n",
        "\n",
        "Таким образом, увеличив вдвое прогноз нового таргета и вычтя из него единицу мы получим значение самого uplift'a, т.е.\n",
        "\n",
        "$$\n",
        "uplift = 2 \\cdot P(Z=1) - 1\n",
        "$$\n",
        "\n",
        "Исходя из допущения описанного выше: $P(W = 1) = P(W = 0) = \\frac{1}{2}$, данный подход следует использовать только в случаях, когда количество клиентов, с которыми мы прокоммуницировлаи, равно количеству клиентов, с которыми коммуникации не было. "
      ]
    },
    {
      "cell_type": "code",
      "metadata": {
        "id": "w0OE6yFmBu8g"
      },
      "source": [
        "from sklift.models import ClassTransformation\n",
        "\n",
        "ct = ClassTransformation(CatBoostClassifier(iterations=20, thread_count=2, random_state=42, silent=True))\n",
        "ct = ct.fit(X_train, y_train, treat_train, estimator_fit_params={'cat_features': cat_features})\n",
        "\n",
        "uplift_ct = ct.predict(X_val)\n",
        "\n",
        "ct_score = uplift_at_k(y_true=y_val, uplift=uplift_ct, treatment=treat_val, strategy='by_group', k=0.3)\n",
        "\n",
        "models_results['approach'].append('ClassTransformation')\n",
        "models_results['uplift@30%'].append(ct_score)"
      ],
      "execution_count": 16,
      "outputs": []
    },
    {
      "cell_type": "markdown",
      "metadata": {
        "id": "_cPxz1V5B4_G"
      },
      "source": [
        "## 2. Подходы с двумя моделями\n",
        "\n",
        "Подход с двумя моделями можно встретить почти в любой работе по uplift моделированию, он часто используется в качестве бейзлайна. Однако использование двух моделей может привести к некоторым неприятным последствиям: если для обучения будут использоваться принципиально разные модели или природа данных тестовой и контрольной групп будут сильно отличаться, то возвращаемые моделями скоры  будут не сопоставимы между собой. Вследствие чего расчет uplift будет не совсем корректным. Для избежания такого эффекта необходимо калибровать модели, чтобы их скоры можно было интерпертировать как вероятности. Калибровка вероятностей модели отлично описана в [документации scikit-learn](https://scikit-learn.org/stable/modules/calibration.html).\n",
        "\n",
        "### 2.1 Две независимые модели\n",
        "\n",
        "Как понятно из названия, подход заключается в моделировании условных вероятностей тестовой и контрольной групп отдельно. В статьях утверждается, что такой подход достаточно слабый, так как обе модели фокусируются на прогнозировании результата отдельно и поэтому могут пропустить \"более слабые\" различия в выборках.\n",
        "\n",
        "<p align= \"center\">\n",
        "  <img src=\"https://raw.githubusercontent.com/maks-sh/scikit-uplift/master/docs/_static/images/TwoModels_vanila_RU.png\" alt=\"Two Models vanila\"/>\n",
        "</p>"
      ]
    },
    {
      "cell_type": "code",
      "metadata": {
        "colab": {
          "base_uri": "https://localhost:8080/",
          "height": 444
        },
        "id": "SzVattnwB5sR",
        "outputId": "8a126db2-8bd4-40aa-f070-753caa10c827"
      },
      "source": [
        "from sklift.models import TwoModels\n",
        "\n",
        "tm = TwoModels(\n",
        "    estimator_trmnt=CatBoostClassifier(iterations=20, thread_count=2, random_state=42, silent=True), \n",
        "    estimator_ctrl=CatBoostClassifier(iterations=20, thread_count=2, random_state=42, silent=True), \n",
        "    method='vanilla'\n",
        ")\n",
        "tm = tm.fit(\n",
        "    X_train, y_train, treat_train,\n",
        "    estimator_trmnt_fit_params={'cat_features': cat_features}, \n",
        "    estimator_ctrl_fit_params={'cat_features': cat_features}\n",
        ")\n",
        "\n",
        "uplift_tm = tm.predict(X_val)\n",
        "\n",
        "tm_score = uplift_at_k(y_true=y_val, uplift=uplift_tm, treatment=treat_val, strategy='by_group', k=0.3)\n",
        "\n",
        "models_results['approach'].append('TwoModels')\n",
        "models_results['uplift@30%'].append(tm_score)\n",
        "\n",
        "plot_uplift_preds(trmnt_preds=tm.trmnt_preds_, ctrl_preds=tm.ctrl_preds_);"
      ],
      "execution_count": 17,
      "outputs": [
        {
          "output_type": "display_data",
          "data": {
            "image/png": "[encoded data removed]",
            "text/plain": [
              "<Figure size 1440x504 with 3 Axes>"
            ]
          },
          "metadata": {
            "needs_background": "light"
          }
        }
      ]
    },
    {
      "cell_type": "markdown",
      "metadata": {
        "id": "gh2hwgL0B9jv"
      },
      "source": [
        "### 2.2 Две зависимые модели\n",
        "\n",
        "Подход зависимого представления данных основан на методе цепочек классификаторов, первоначально разработанном для задач многоклассовой классификации. Идея состоит в том, что при наличии $L$ различных меток можно построить $L$ различных классификаторов, каждый из которых решает задачу бинарной классификации и в процессе обучения каждый следующий классификатор использует предсказания предыдущих в качестве дополнительных признаков. Авторы данного метода предложили использовать ту же идею для решения проблемы uplift моделирования в два этапа. В начале мы обучаем классификатор по контрольным данным: \n",
        "$$\n",
        "P^C = P(Y=1| X, W = 0),\n",
        "$$\n",
        "затем исполним предсказания $P_C$ в качестве нового признака для обучения второго классификатора на тестовых данных, тем самым эффективно вводя зависимость между двумя наборами данных:\n",
        "\n",
        "$$\n",
        "P^T =  P(Y=1| X, P_C(X), W = 1)\n",
        "$$\n",
        "\n",
        "Чтобы получить uplift для каждого наблюдения, вычислим разницу:\n",
        "\n",
        "$$\n",
        "uplift(x_i) = P^T(x_i, P_C(x_i)) - P^C(x_i)\n",
        "$$\n",
        "\n",
        "Интуитивно второй классификатор изучает разницу между ожидаемым результатом в тесте и контроле, т.е. сам uplift.\n",
        "\n",
        "<p align= \"center\">\n",
        "  <img src=\"https://raw.githubusercontent.com/maks-sh/scikit-uplift/master/docs/_static/images/TwoModels_ddr_control_RU.png\" alt=\"Two dependent models\"/>\n",
        "</p>"
      ]
    },
    {
      "cell_type": "code",
      "metadata": {
        "colab": {
          "base_uri": "https://localhost:8080/",
          "height": 444
        },
        "id": "I5BAJm3rB-Hl",
        "outputId": "4a133b2a-44a0-410c-a912-ad1c0be44934"
      },
      "source": [
        "tm_ctrl = TwoModels(\n",
        "    estimator_trmnt=CatBoostClassifier(iterations=20, thread_count=2, random_state=42, silent=True), \n",
        "    estimator_ctrl=CatBoostClassifier(iterations=20, thread_count=2, random_state=42, silent=True), \n",
        "    method='ddr_control'\n",
        ")\n",
        "tm_ctrl = tm_ctrl.fit(\n",
        "    X_train, y_train, treat_train,\n",
        "    estimator_trmnt_fit_params={'cat_features': cat_features}, \n",
        "    estimator_ctrl_fit_params={'cat_features': cat_features}\n",
        ")\n",
        "\n",
        "uplift_tm_ctrl = tm_ctrl.predict(X_val)\n",
        "\n",
        "tm_ctrl_score = uplift_at_k(y_true=y_val, uplift=uplift_tm_ctrl, treatment=treat_val, strategy='by_group', k=0.3)\n",
        "\n",
        "models_results['approach'].append('TwoModels_ddr_control')\n",
        "models_results['uplift@30%'].append(tm_ctrl_score)\n",
        "\n",
        "plot_uplift_preds(trmnt_preds=tm_ctrl.trmnt_preds_, ctrl_preds=tm_ctrl.ctrl_preds_);"
      ],
      "execution_count": 18,
      "outputs": [
        {
          "output_type": "display_data",
          "data": {
            "image/png": "[encoded data removed]",
            "text/plain": [
              "<Figure size 1440x504 with 3 Axes>"
            ]
          },
          "metadata": {
            "needs_background": "light"
          }
        }
      ]
    },
    {
      "cell_type": "markdown",
      "metadata": {
        "id": "C6c4B57eCCR9"
      },
      "source": [
        "Аналогичным образом можно сначала обучить классификатор $P^T$, а затем использовать его предсказания в качестве признака для классификатора $P^C$."
      ]
    },
    {
      "cell_type": "code",
      "metadata": {
        "colab": {
          "base_uri": "https://localhost:8080/",
          "height": 444
        },
        "id": "iShIYjqgCAFs",
        "outputId": "f26d1092-fb37-4169-94ff-a8359565de2c"
      },
      "source": [
        "tm_trmnt = TwoModels(\n",
        "    estimator_trmnt=CatBoostClassifier(iterations=20, thread_count=2, random_state=42, silent=True), \n",
        "    estimator_ctrl=CatBoostClassifier(iterations=20, thread_count=2, random_state=42, silent=True), \n",
        "    method='ddr_treatment'\n",
        ")\n",
        "tm_trmnt = tm_trmnt.fit(\n",
        "    X_train, y_train, treat_train,\n",
        "    estimator_trmnt_fit_params={'cat_features': cat_features}, \n",
        "    estimator_ctrl_fit_params={'cat_features': cat_features}\n",
        ")\n",
        "\n",
        "uplift_tm_trmnt = tm_trmnt.predict(X_val)\n",
        "\n",
        "tm_trmnt_score = uplift_at_k(y_true=y_val, uplift=uplift_tm_trmnt, treatment=treat_val, strategy='by_group', k=0.3)\n",
        "\n",
        "models_results['approach'].append('TwoModels_ddr_treatment')\n",
        "models_results['uplift@30%'].append(tm_trmnt_score)\n",
        "\n",
        "plot_uplift_preds(trmnt_preds=tm_trmnt.trmnt_preds_, ctrl_preds=tm_trmnt.ctrl_preds_);"
      ],
      "execution_count": 19,
      "outputs": [
        {
          "output_type": "display_data",
          "data": {
            "image/png": "[encoded data removed]",
            "text/plain": [
              "<Figure size 1440x504 with 3 Axes>"
            ]
          },
          "metadata": {
            "needs_background": "light"
          }
        }
      ]
    },
    {
      "cell_type": "markdown",
      "metadata": {
        "id": "ZLe3R-Y2CEVu"
      },
      "source": [
        "## Заключение\n",
        "\n",
        "Рассмотрим, какой метод лучше всего показал себя в этой задаче, и проскорим им тестовую выборку:"
      ]
    },
    {
      "cell_type": "code",
      "metadata": {
        "colab": {
          "base_uri": "https://localhost:8080/",
          "height": 202
        },
        "id": "vvhXTAJGCEft",
        "outputId": "465ad95c-b4ce-469e-ead5-ca723e92693e"
      },
      "source": [
        "pd.DataFrame(data=models_results).sort_values('uplift@30%', ascending=False)"
      ],
      "execution_count": 20,
      "outputs": [
        {
          "output_type": "execute_result",
          "data": {
            "text/html": [
              "<div>\n",
              "<style scoped>\n",
              "    .dataframe tbody tr th:only-of-type {\n",
              "        vertical-align: middle;\n",
              "    }\n",
              "\n",
              "    .dataframe tbody tr th {\n",
              "        vertical-align: top;\n",
              "    }\n",
              "\n",
              "    .dataframe thead th {\n",
              "        text-align: right;\n",
              "    }\n",
              "</style>\n",
              "<table border=\"1\" class=\"dataframe\">\n",
              "  <thead>\n",
              "    <tr style=\"text-align: right;\">\n",
              "      <th></th>\n",
              "      <th>approach</th>\n",
              "      <th>uplift@30%</th>\n",
              "    </tr>\n",
              "  </thead>\n",
              "  <tbody>\n",
              "    <tr>\n",
              "      <th>0</th>\n",
              "      <td>SoloModel</td>\n",
              "      <td>0.057262</td>\n",
              "    </tr>\n",
              "    <tr>\n",
              "      <th>1</th>\n",
              "      <td>ClassTransformation</td>\n",
              "      <td>0.053981</td>\n",
              "    </tr>\n",
              "    <tr>\n",
              "      <th>3</th>\n",
              "      <td>TwoModels_ddr_control</td>\n",
              "      <td>0.053118</td>\n",
              "    </tr>\n",
              "    <tr>\n",
              "      <th>2</th>\n",
              "      <td>TwoModels</td>\n",
              "      <td>0.049310</td>\n",
              "    </tr>\n",
              "    <tr>\n",
              "      <th>4</th>\n",
              "      <td>TwoModels_ddr_treatment</td>\n",
              "      <td>0.033900</td>\n",
              "    </tr>\n",
              "  </tbody>\n",
              "</table>\n",
              "</div>"
            ],
            "text/plain": [
              "                  approach  uplift@30%\n",
              "0                SoloModel    0.057262\n",
              "1      ClassTransformation    0.053981\n",
              "3    TwoModels_ddr_control    0.053118\n",
              "2                TwoModels    0.049310\n",
              "4  TwoModels_ddr_treatment    0.033900"
            ]
          },
          "metadata": {},
          "execution_count": 20
        }
      ]
    },
    {
      "cell_type": "markdown",
      "metadata": {
        "id": "yY6YweFtCKth"
      },
      "source": [
        "Из таблички выше можно понять, что в текущей задаче лучше всего справился подход трансформации целевой перемнной. Обучим модель на всей выборке и предскажем на тест."
      ]
    },
    {
      "cell_type": "code",
      "metadata": {
        "colab": {
          "base_uri": "https://localhost:8080/"
        },
        "id": "4pj6FHkbCI6p",
        "outputId": "11f26552-facd-4cb4-9c64-67c416194180"
      },
      "source": [
        "ct_full = ClassTransformation(CatBoostClassifier(iterations=20, thread_count=2, random_state=42, silent=True))\n",
        "ct_full = ct_full.fit(\n",
        "    X_train_full, \n",
        "    y_train_full, \n",
        "    treat_train_full, \n",
        "    estimator_fit_params={'cat_features': cat_features}\n",
        ")\n",
        "\n",
        "X_test.loc[:, 'uplift'] = ct_full.predict(X_test.values)\n",
        "\n",
        "sub = X_test[['uplift']].to_csv('sub1.csv')\n",
        "\n",
        "!head -n 5 sub1.csv"
      ],
      "execution_count": 21,
      "outputs": [
        {
          "output_type": "stream",
          "name": "stdout",
          "text": [
            ",uplift\n",
            "e4efae9762,0.08096756982178954\n",
            "5946a275b9,0.05885397001401671\n",
            "286346afe6,0.07902313487042067\n",
            "e3c029de47,0.01860180662794031\n"
          ]
        }
      ]
    },
    {
      "cell_type": "code",
      "metadata": {
        "colab": {
          "base_uri": "https://localhost:8080/",
          "height": 202
        },
        "id": "qocXqkYYCM3L",
        "outputId": "296389cf-4051-4a66-b57c-5f5306b21556"
      },
      "source": [
        "ct_full_fi = pd.DataFrame({\n",
        "    'feature_name': ct_full.estimator.feature_names_,\n",
        "    'feature_score': ct_full.estimator.feature_importances_\n",
        "}).sort_values('feature_score', ascending=False).reset_index(drop=True)\n",
        "\n",
        "ct_full_fi"
      ],
      "execution_count": 22,
      "outputs": [
        {
          "output_type": "execute_result",
          "data": {
            "text/html": [
              "<div>\n",
              "<style scoped>\n",
              "    .dataframe tbody tr th:only-of-type {\n",
              "        vertical-align: middle;\n",
              "    }\n",
              "\n",
              "    .dataframe tbody tr th {\n",
              "        vertical-align: top;\n",
              "    }\n",
              "\n",
              "    .dataframe thead th {\n",
              "        text-align: right;\n",
              "    }\n",
              "</style>\n",
              "<table border=\"1\" class=\"dataframe\">\n",
              "  <thead>\n",
              "    <tr style=\"text-align: right;\">\n",
              "      <th></th>\n",
              "      <th>feature_name</th>\n",
              "      <th>feature_score</th>\n",
              "    </tr>\n",
              "  </thead>\n",
              "  <tbody>\n",
              "    <tr>\n",
              "      <th>0</th>\n",
              "      <td>first_redeem_time</td>\n",
              "      <td>83.045912</td>\n",
              "    </tr>\n",
              "    <tr>\n",
              "      <th>1</th>\n",
              "      <td>age</td>\n",
              "      <td>6.623155</td>\n",
              "    </tr>\n",
              "    <tr>\n",
              "      <th>2</th>\n",
              "      <td>first_issue_time</td>\n",
              "      <td>4.059862</td>\n",
              "    </tr>\n",
              "    <tr>\n",
              "      <th>3</th>\n",
              "      <td>issue_redeem_delay</td>\n",
              "      <td>4.022845</td>\n",
              "    </tr>\n",
              "    <tr>\n",
              "      <th>4</th>\n",
              "      <td>gender</td>\n",
              "      <td>2.248227</td>\n",
              "    </tr>\n",
              "  </tbody>\n",
              "</table>\n",
              "</div>"
            ],
            "text/plain": [
              "         feature_name  feature_score\n",
              "0   first_redeem_time      83.045912\n",
              "1                 age       6.623155\n",
              "2    first_issue_time       4.059862\n",
              "3  issue_redeem_delay       4.022845\n",
              "4              gender       2.248227"
            ]
          },
          "metadata": {},
          "execution_count": 22
        }
      ]
    },
    {
      "cell_type": "markdown",
      "metadata": {
        "id": "XVpESSQdCMx3"
      },
      "source": [
        "Итак, мы познакомились с uplift моделированием и рассмотрели основные классические подходы его построения. Что дальше? Дальше можно с головй окунуться в разведывательный анализ данных, генерацию новых признаков, подбор моделей и их гиперпарметров, а также изучение новых подходов и библиотек.\n"
      ]
    },
    {
      "cell_type": "code",
      "metadata": {
        "id": "wXNyYFIgt_6s"
      },
      "source": [
        "import numpy as np\n",
        "import pandas as pd\n",
        "import matplotlib.pyplot as plt\n",
        "%matplotlib inline\n",
        "import seaborn as sns\n",
        "sns.set_style('whitegrid')\n",
        "import random\n",
        "\n",
        "from sklearn.linear_model import LogisticRegression\n",
        "#--Generation of data to be used\n",
        "\n",
        "#The profit here is CVR.\n",
        "\n",
        "def generate_sample_data(num, seed=0):\n",
        "    cv_flg_list = [] #A list of flags that indicate conversions\n",
        "    treat_flg_list = [] #A list of flags that indicate whether you have intervened\n",
        "    feature_vector_list = [] #List of features\n",
        "    \n",
        "    feature_num = 8 #Number of features\n",
        "    base_weight = [0.02, 0.03, 0.05, -0.04, 0.00, 0.00, 0.00, 0.00] #Feature base\n",
        "    lift_weight = [0.00, 0.00, 0.00, 0.05, -0.05, 0.00, 0.0, 0.00] #Amount of change in features during intervention\n",
        "    \n",
        "    random_instance = random.Random(seed)\n",
        "    for i in range(num):\n",
        "        feature_vector = [random_instance.random() for n in range(feature_num)] #Randomly generate features\n",
        "        treat_flg = random_instance.choice((1, 0)) #Randomly generate intervention flags\n",
        "        cv_rate = sum([feature_vector[n]*base_weight[n] for n in range(feature_num)]) #Generate the base value of CVR\n",
        "        if treat_flg == 1:\n",
        "            cv_rate += sum([feature_vector[n]*lift_weight[n] for n in range(feature_num)]) #Lift if you want to intervene_Add weight and add CVR\n",
        "        cv_flg = 1 if cv_rate > random_instance.random() else 0\n",
        "        \n",
        "        cv_flg_list.append(cv_flg)\n",
        "        treat_flg_list.append(treat_flg)\n",
        "        feature_vector_list.append(feature_vector)\n",
        "    \n",
        "    df = pd.DataFrame(np.c_[cv_flg_list, treat_flg_list, feature_vector_list], \n",
        "                      columns=['cv_flg', 'treat_flg','feature0', 'feature1', 'feature2', \n",
        "                               'feature3', 'feature4', 'feature5', 'feature6', 'feature7'])\n",
        "    \n",
        "    return df\n",
        "\n",
        "train_data = generate_sample_data(num=10000, seed=0) #Model building data (learning data)\n",
        "test_data = generate_sample_data(num=10000, seed=1) #Model performance evaluation data (verification data"
      ],
      "execution_count": 21,
      "outputs": []
    },
    {
      "cell_type": "code",
      "metadata": {
        "id": "8VxlZnA-uGeF"
      },
      "source": [
        "#Prepare data for the model to predict the benefit (CVR) of intervention\n",
        "X_train_treat = train_data[train_data['treat_flg']==1].drop(['cv_flg', 'treat_flg'], axis=1)\n",
        "Y_train_treat = train_data.loc[train_data['treat_flg']==1, 'cv_flg']\n",
        "\n",
        "#Prepare data for the model to predict the benefit (CVR) without intervention\n",
        "X_train_control = train_data[train_data['treat_flg']==0].drop(['cv_flg', 'treat_flg'], axis=1)\n",
        "Y_train_control = train_data.loc[train_data['treat_flg']==0, 'cv_flg']\n",
        "\n",
        "#Build two models\n",
        "treat_model = LogisticRegression(C=0.01, random_state=0)\n",
        "control_model = LogisticRegression(C=0.01, random_state=0)\n",
        "treat_model.fit(X_train_treat, Y_train_treat)\n",
        "control_model.fit(X_train_control, Y_train_control)\n",
        "\n",
        "#Predict CVR for validation data\n",
        "X_test = test_data.drop(['cv_flg', 'treat_flg'], axis=1)\n",
        "\n",
        "treat_score = treat_model.predict_proba(X_test)[:, 1]\n",
        "control_score = control_model.predict_proba(X_test)[:, 1]\n",
        "\n",
        "#Calculate uplift score\n",
        "uplift_score = treat_score - control_score"
      ],
      "execution_count": 22,
      "outputs": []
    },
    {
      "cell_type": "code",
      "metadata": {
        "colab": {
          "base_uri": "https://localhost:8080/"
        },
        "id": "0YA1C8FHuJt-",
        "outputId": "a6588389-c1bb-4216-c80f-ea991cdee205"
      },
      "source": [
        "#Sort the validation data in descending order of uplift score\n",
        "result = pd.DataFrame(np.c_[test_data['cv_flg'], test_data['treat_flg'], uplift_score], columns=['cv_flg', 'treat_flg', 'uplift_score'])\n",
        "result = result.sort_values(by='uplift_score', ascending=False).reset_index(drop=True)\n",
        "\n",
        "#Calculation of lift\n",
        "result['treat_num_cumsum'] = result['treat_flg'].cumsum()\n",
        "result['control_num_cumsum'] = (1 - result['treat_flg']).cumsum()\n",
        "result['treat_cv_cumsum'] = (result['treat_flg'] * result['cv_flg']).cumsum()\n",
        "result['control_cv_cumsum'] = ((1 - result['treat_flg']) * result['cv_flg']).cumsum()\n",
        "result['treat_cvr'] = (result['treat_cv_cumsum'] / result['treat_num_cumsum']).fillna(0)\n",
        "result['control_cvr'] = (result['control_cv_cumsum'] / result['control_num_cumsum']).fillna(0)\n",
        "result['lift'] = (result['treat_cvr'] - result['control_cvr']) * result['treat_num_cumsum']\n",
        "result['base_line'] = result.index * result['lift'][len(result.index) - 1] / len(result.index)\n",
        "\n",
        "#Calculation of AUUC\n",
        "auuc = (result['lift'] - result['base_line']).sum() / len(result['lift'])\n",
        "print('AUUC = {:.2f}'.format(auuc))\n",
        "#output:=> AUUC = 37.70"
      ],
      "execution_count": 23,
      "outputs": [
        {
          "output_type": "stream",
          "name": "stdout",
          "text": [
            "AUUC = 37.70\n"
          ]
        }
      ]
    },
    {
      "cell_type": "code",
      "metadata": {
        "colab": {
          "base_uri": "https://localhost:8080/",
          "height": 278
        },
        "id": "5u4Mtmw5uMRo",
        "outputId": "52aabc3e-7286-4806-d822-c966d7233ed5"
      },
      "source": [
        "result.plot(y=['lift', 'base_line'])\n",
        "plt.xlabel('uplift score rank')\n",
        "plt.ylabel('conversion lift')\n",
        "plt.show()"
      ],
      "execution_count": 24,
      "outputs": [
        {
          "output_type": "display_data",
          "data": {
            "image/png": "[encoded data removed]",
            "text/plain": [
              "<Figure size 432x288 with 1 Axes>"
            ]
          },
          "metadata": {}
        }
      ]
    },
    {
      "cell_type": "code",
      "metadata": {
        "id": "tvaOUY_3uOx1"
      },
      "source": [
        "#Preparation of learning data (create an interaction term between the presence or absence of intervention and features)\n",
        "X_train = train_data.drop('cv_flg', axis=1)\n",
        "for feature in ['feature'+str(i) for i in range(8)]:\n",
        "    X_train['treat_flg_x_' + feature] = X_train['treat_flg'] * X_train[feature]\n",
        "Y_train = train_data['cv_flg']\n",
        "\n",
        "#Build a model\n",
        "model = LogisticRegression(C=0.01, random_state=0)\n",
        "model.fit(X_train, Y_train)\n",
        "\n",
        "#Preparation of verification data when intervening\n",
        "X_test_treat = test_data.drop('cv_flg', axis=1).copy()\n",
        "X_test_treat['treat_flg'] = 1\n",
        "for feature in ['feature'+str(i) for i in range(8)]:\n",
        "    X_test_treat['treat_flg_x_' + feature] = X_test_treat['treat_flg'] * X_test_treat[feature]\n",
        "\n",
        "#Preparation of verification data when no intervention is required\n",
        "X_test_control = test_data.drop('cv_flg', axis=1).copy()\n",
        "X_test_control['treat_flg'] = 0\n",
        "for feature in ['feature'+str(i) for i in range(8)]:\n",
        "    X_test_control['treat_flg_x_' + feature] = X_test_control['treat_flg'] * X_test_control[feature]\n",
        "\n",
        "#Predict profit CVR for validation data\n",
        "treat_score = model.predict_proba(X_test_treat)[:, 1]\n",
        "control_score = model.predict_proba(X_test_control)[:, 1]\n",
        "\n",
        "#Calculation of uplift score\n",
        "uplift_score = treat_score - control_score"
      ],
      "execution_count": 26,
      "outputs": []
    }
  ]
}