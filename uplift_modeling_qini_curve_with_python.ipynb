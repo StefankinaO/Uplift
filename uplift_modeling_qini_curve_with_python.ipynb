{
  "nbformat": 4,
  "nbformat_minor": 0,
  "metadata": {
    "kernelspec": {
      "language": "python",
      "display_name": "Python 3",
      "name": "python3"
    },
    "language_info": {
      "pygments_lexer": "ipython3",
      "nbconvert_exporter": "python",
      "version": "3.6.4",
      "file_extension": ".py",
      "codemirror_mode": {
        "name": "ipython",
        "version": 3
      },
      "name": "python",
      "mimetype": "text/x-python"
    },
    "colab": {
      "name": "uplift-modeling-qini-curve-with-python.ipynb",
      "provenance": []
    }
  },
  "cells": [
    {
      "cell_type": "markdown",
      "metadata": {
        "id": "5EaOOyq9Gfqp"
      },
      "source": [
        "# Uplift Modeling to predict and target the right customers\n",
        "![](https://st2.ning.com/topology/rest/1.0/file/get/2220280883?profile=original)\n",
        "[Uplift modelling](https://en.wikipedia.org/wiki/Uplift_modelling), also known as incremental modelling, true lift modelling, or net modelling is a predictive modelling technique that directly models the incremental impact of a treatment (such as a direct marketing action) on an individual's behaviour."
      ]
    },
    {
      "cell_type": "markdown",
      "metadata": {
        "id": "4v-b_c5EGfqv"
      },
      "source": [
        "# Setup"
      ]
    },
    {
      "cell_type": "code",
      "metadata": {
        "_uuid": "8f2839f25d086af736a60e9eeb907d3b93b6e0e5",
        "_cell_guid": "b1076dfc-b9ad-4769-8c92-a6c4dae69d19",
        "trusted": true,
        "id": "5xIut_ioGfqw"
      },
      "source": [
        "# Import libraries\n",
        "import numpy as np, matplotlib as mpl, matplotlib.pyplot as plt, pandas as pd\n",
        "import seaborn as sns, math, os, warnings \n",
        "warnings.filterwarnings('ignore')\n",
        "# Get file's directory\n",
        "for dirname, _, filenames in os.walk('/kaggle/input'):\n",
        "    for filename in filenames:\n",
        "        print(os.path.join(dirname, filename))"
      ],
      "execution_count": 1,
      "outputs": []
    },
    {
      "cell_type": "markdown",
      "metadata": {
        "id": "b1iIiohLGfqz"
      },
      "source": [
        "# Data Exploration"
      ]
    },
    {
      "cell_type": "code",
      "metadata": {
        "_uuid": "d629ff2d2480ee46fbb7e2d37f6b5fab8052498a",
        "_cell_guid": "79c7e3d0-c299-4dcb-8224-4455121ee9b0",
        "trusted": true,
        "id": "yI8ri1jEGfqz"
      },
      "source": [
        "# Import data\n",
        "df_data = pd.read_csv('/content/kaggle/input/customer-retention/data.csv')\n",
        "df_model = df_data.copy()"
      ],
      "execution_count": 5,
      "outputs": []
    },
    {
      "cell_type": "code",
      "metadata": {
        "trusted": true,
        "colab": {
          "base_uri": "https://localhost:8080/",
          "height": 202
        },
        "id": "932sgzuIGfq0",
        "outputId": "923440d2-9b4c-415b-b2d6-1eed66066a94"
      },
      "source": [
        "# Let's take a look at our data\n",
        "df_model.head(5)"
      ],
      "execution_count": 6,
      "outputs": [
        {
          "output_type": "execute_result",
          "data": {
            "text/html": [
              "<div>\n",
              "<style scoped>\n",
              "    .dataframe tbody tr th:only-of-type {\n",
              "        vertical-align: middle;\n",
              "    }\n",
              "\n",
              "    .dataframe tbody tr th {\n",
              "        vertical-align: top;\n",
              "    }\n",
              "\n",
              "    .dataframe thead th {\n",
              "        text-align: right;\n",
              "    }\n",
              "</style>\n",
              "<table border=\"1\" class=\"dataframe\">\n",
              "  <thead>\n",
              "    <tr style=\"text-align: right;\">\n",
              "      <th></th>\n",
              "      <th>recency</th>\n",
              "      <th>history</th>\n",
              "      <th>used_discount</th>\n",
              "      <th>used_bogo</th>\n",
              "      <th>zip_code</th>\n",
              "      <th>is_referral</th>\n",
              "      <th>channel</th>\n",
              "      <th>offer</th>\n",
              "      <th>conversion</th>\n",
              "    </tr>\n",
              "  </thead>\n",
              "  <tbody>\n",
              "    <tr>\n",
              "      <th>0</th>\n",
              "      <td>10</td>\n",
              "      <td>142.44</td>\n",
              "      <td>1</td>\n",
              "      <td>0</td>\n",
              "      <td>Surburban</td>\n",
              "      <td>0</td>\n",
              "      <td>Phone</td>\n",
              "      <td>Buy One Get One</td>\n",
              "      <td>0</td>\n",
              "    </tr>\n",
              "    <tr>\n",
              "      <th>1</th>\n",
              "      <td>6</td>\n",
              "      <td>329.08</td>\n",
              "      <td>1</td>\n",
              "      <td>1</td>\n",
              "      <td>Rural</td>\n",
              "      <td>1</td>\n",
              "      <td>Web</td>\n",
              "      <td>No Offer</td>\n",
              "      <td>0</td>\n",
              "    </tr>\n",
              "    <tr>\n",
              "      <th>2</th>\n",
              "      <td>7</td>\n",
              "      <td>180.65</td>\n",
              "      <td>0</td>\n",
              "      <td>1</td>\n",
              "      <td>Surburban</td>\n",
              "      <td>1</td>\n",
              "      <td>Web</td>\n",
              "      <td>Buy One Get One</td>\n",
              "      <td>0</td>\n",
              "    </tr>\n",
              "    <tr>\n",
              "      <th>3</th>\n",
              "      <td>9</td>\n",
              "      <td>675.83</td>\n",
              "      <td>1</td>\n",
              "      <td>0</td>\n",
              "      <td>Rural</td>\n",
              "      <td>1</td>\n",
              "      <td>Web</td>\n",
              "      <td>Discount</td>\n",
              "      <td>0</td>\n",
              "    </tr>\n",
              "    <tr>\n",
              "      <th>4</th>\n",
              "      <td>2</td>\n",
              "      <td>45.34</td>\n",
              "      <td>1</td>\n",
              "      <td>0</td>\n",
              "      <td>Urban</td>\n",
              "      <td>0</td>\n",
              "      <td>Web</td>\n",
              "      <td>Buy One Get One</td>\n",
              "      <td>0</td>\n",
              "    </tr>\n",
              "  </tbody>\n",
              "</table>\n",
              "</div>"
            ],
            "text/plain": [
              "   recency  history  used_discount  ...  channel            offer  conversion\n",
              "0       10   142.44              1  ...    Phone  Buy One Get One           0\n",
              "1        6   329.08              1  ...      Web         No Offer           0\n",
              "2        7   180.65              0  ...      Web  Buy One Get One           0\n",
              "3        9   675.83              1  ...      Web         Discount           0\n",
              "4        2    45.34              1  ...      Web  Buy One Get One           0\n",
              "\n",
              "[5 rows x 9 columns]"
            ]
          },
          "metadata": {},
          "execution_count": 6
        }
      ]
    },
    {
      "cell_type": "code",
      "metadata": {
        "trusted": true,
        "colab": {
          "base_uri": "https://localhost:8080/"
        },
        "id": "eZMvx2M1Gfq1",
        "outputId": "91a822fd-e45b-414a-aa73-91b6f0ba459e"
      },
      "source": [
        "# Checking for null data\n",
        "df_model.info()"
      ],
      "execution_count": 7,
      "outputs": [
        {
          "output_type": "stream",
          "name": "stdout",
          "text": [
            "<class 'pandas.core.frame.DataFrame'>\n",
            "RangeIndex: 64000 entries, 0 to 63999\n",
            "Data columns (total 9 columns):\n",
            " #   Column         Non-Null Count  Dtype  \n",
            "---  ------         --------------  -----  \n",
            " 0   recency        64000 non-null  int64  \n",
            " 1   history        64000 non-null  float64\n",
            " 2   used_discount  64000 non-null  int64  \n",
            " 3   used_bogo      64000 non-null  int64  \n",
            " 4   zip_code       64000 non-null  object \n",
            " 5   is_referral    64000 non-null  int64  \n",
            " 6   channel        64000 non-null  object \n",
            " 7   offer          64000 non-null  object \n",
            " 8   conversion     64000 non-null  int64  \n",
            "dtypes: float64(1), int64(5), object(3)\n",
            "memory usage: 4.4+ MB\n"
          ]
        }
      ]
    },
    {
      "cell_type": "markdown",
      "metadata": {
        "id": "NvMRkrkaGfq2"
      },
      "source": [
        "Good, there is no null data in this dataset"
      ]
    },
    {
      "cell_type": "code",
      "metadata": {
        "trusted": true,
        "colab": {
          "base_uri": "https://localhost:8080/",
          "height": 171
        },
        "id": "SZeP0hUKGfq2",
        "outputId": "136a22b4-f0ba-40d3-e76f-e5d5b76cc709"
      },
      "source": [
        "# Checking for object data\n",
        "df_model.describe(include=np.object)"
      ],
      "execution_count": 8,
      "outputs": [
        {
          "output_type": "execute_result",
          "data": {
            "text/html": [
              "<div>\n",
              "<style scoped>\n",
              "    .dataframe tbody tr th:only-of-type {\n",
              "        vertical-align: middle;\n",
              "    }\n",
              "\n",
              "    .dataframe tbody tr th {\n",
              "        vertical-align: top;\n",
              "    }\n",
              "\n",
              "    .dataframe thead th {\n",
              "        text-align: right;\n",
              "    }\n",
              "</style>\n",
              "<table border=\"1\" class=\"dataframe\">\n",
              "  <thead>\n",
              "    <tr style=\"text-align: right;\">\n",
              "      <th></th>\n",
              "      <th>zip_code</th>\n",
              "      <th>channel</th>\n",
              "      <th>offer</th>\n",
              "    </tr>\n",
              "  </thead>\n",
              "  <tbody>\n",
              "    <tr>\n",
              "      <th>count</th>\n",
              "      <td>64000</td>\n",
              "      <td>64000</td>\n",
              "      <td>64000</td>\n",
              "    </tr>\n",
              "    <tr>\n",
              "      <th>unique</th>\n",
              "      <td>3</td>\n",
              "      <td>3</td>\n",
              "      <td>3</td>\n",
              "    </tr>\n",
              "    <tr>\n",
              "      <th>top</th>\n",
              "      <td>Surburban</td>\n",
              "      <td>Web</td>\n",
              "      <td>Buy One Get One</td>\n",
              "    </tr>\n",
              "    <tr>\n",
              "      <th>freq</th>\n",
              "      <td>28776</td>\n",
              "      <td>28217</td>\n",
              "      <td>21387</td>\n",
              "    </tr>\n",
              "  </tbody>\n",
              "</table>\n",
              "</div>"
            ],
            "text/plain": [
              "         zip_code channel            offer\n",
              "count       64000   64000            64000\n",
              "unique          3       3                3\n",
              "top     Surburban     Web  Buy One Get One\n",
              "freq        28776   28217            21387"
            ]
          },
          "metadata": {},
          "execution_count": 8
        }
      ]
    },
    {
      "cell_type": "code",
      "metadata": {
        "trusted": true,
        "colab": {
          "base_uri": "https://localhost:8080/"
        },
        "id": "y0B7_vsYGfq3",
        "outputId": "0f0cdb2e-7de5-44d7-c607-9025925518bb"
      },
      "source": [
        "# Checking unique object data\n",
        "object_cols = [col for col in df_model.columns if df_model[col].dtype == \"object\"]\n",
        "for obj in object_cols:\n",
        "    print('\\n', obj)\n",
        "    for unique in df_model[obj].unique():\n",
        "        print(\"{} {}\".format(unique,sum(df_model[obj] == unique)))"
      ],
      "execution_count": 9,
      "outputs": [
        {
          "output_type": "stream",
          "name": "stdout",
          "text": [
            "\n",
            " zip_code\n",
            "Surburban 28776\n",
            "Rural 9563\n",
            "Urban 25661\n",
            "\n",
            " channel\n",
            "Phone 28021\n",
            "Web 28217\n",
            "Multichannel 7762\n",
            "\n",
            " offer\n",
            "Buy One Get One 21387\n",
            "No Offer 21306\n",
            "Discount 21307\n"
          ]
        }
      ]
    },
    {
      "cell_type": "markdown",
      "metadata": {
        "id": "leZpCNSEGfq4"
      },
      "source": [
        "## Data Preprocessing"
      ]
    },
    {
      "cell_type": "code",
      "metadata": {
        "trusted": true,
        "id": "kJxdxI5qGfq4"
      },
      "source": [
        "# Rename target column\n",
        "df_model = df_model.rename(columns={'conversion': 'target'})\n",
        "# Rename & Label encode treatment column\n",
        "df_model = df_model.rename(columns={'offer': 'treatment'})\n",
        "df_model.treatment = df_model.treatment.map({'No Offer': 0, 'Buy One Get One': -1, 'Discount': 1})"
      ],
      "execution_count": 10,
      "outputs": []
    },
    {
      "cell_type": "code",
      "metadata": {
        "trusted": true,
        "id": "6lSAtreYGfq5"
      },
      "source": [
        "# One-Hot Encoding:\n",
        "df_model = pd.get_dummies(df_model)"
      ],
      "execution_count": 11,
      "outputs": []
    },
    {
      "cell_type": "code",
      "metadata": {
        "trusted": true,
        "id": "R3aCxkbeGfq5"
      },
      "source": [
        "# Split data with bogo and discount\n",
        "df_model_bogo = df_model.copy().loc[df_model.treatment <=0].reset_index(drop=True)\n",
        "df_model_discount = df_model.copy().loc[df_model.treatment >=0].reset_index(drop=True)"
      ],
      "execution_count": 12,
      "outputs": []
    },
    {
      "cell_type": "markdown",
      "metadata": {
        "id": "E9EwSVuEGfq6"
      },
      "source": [
        "## Target Class Declaration\n",
        "* <h3> Control Non-Responders(CN) </h3>\n",
        "Customers that don't make a purchase without an offer (value = 0) \n",
        "* <h3> Control Responders(CR) </h3>\n",
        "Customers that make a purchase without an offer  (value = 1) \n",
        "* <h3> Treatment Non-Responders(TN) </h3>\n",
        "Customer that don't make a purchase and receive an offer  (value = 2) \n",
        "* <h3> Treatment Responders(TR) </h3>\n",
        "Customers that make a purchase and receive an offer (value = 3) "
      ]
    },
    {
      "cell_type": "code",
      "metadata": {
        "trusted": true,
        "id": "pOnN41fOGfq6"
      },
      "source": [
        "# Function to declare Target Class\n",
        "def declare_tc(df:pd.DataFrame):\n",
        "    \"\"\"Declare target class\n",
        "    \"\"\"\n",
        "    #CN:\n",
        "    df['target_class'] = 0 \n",
        "    #CR:\n",
        "    df.loc[(df.treatment == 0) & (df.target != 0),'target_class'] = 1 \n",
        "    #TN:\n",
        "    df.loc[(df.treatment != 0) & (df.target == 0),'target_class'] = 2 \n",
        "    #TR:\n",
        "    df.loc[(df.treatment != 0) & (df.target != 0),'target_class'] = 3 \n",
        "    return df"
      ],
      "execution_count": 13,
      "outputs": []
    },
    {
      "cell_type": "code",
      "metadata": {
        "trusted": true,
        "id": "8EAMMthVGfq7"
      },
      "source": [
        "# run the functions for each treatment\n",
        "df_model_bogo = declare_tc(df_model_bogo)\n",
        "df_model_discount = declare_tc(df_model_discount)"
      ],
      "execution_count": 14,
      "outputs": []
    },
    {
      "cell_type": "markdown",
      "metadata": {
        "id": "eNUU6PjdGfq8"
      },
      "source": [
        "## Uplift Modeling\n",
        "The Uplift model in this notebook use Lai’s Generalized Weighed Uplift (LGWUM) to calculate the uplift score.\n",
        "<br>LGWUM is one of [several strategies or methods](https://www.worldscientific.com/doi/abs/10.1142/S0219622019500172) available for Uplift Modeling, that was introduced in [2002 by Lo](https://dl.acm.org/doi/abs/10.1145/772862.772872). Where P Denotes a Probabilty Score, T denotes the total treated population (TR + TN), and C denotes the total untreated population (CR + CN).\n",
        "Thus, Uplift Score can be calculated as:\n",
        "> **Uplift Score = P(TR)/P(T) + P(CN)/P(C) - P(TN)/P(T) - P(CR)/P(C)**\n",
        "\n",
        "Moreover, XGBoost classifier will be used to build the model in this notebook."
      ]
    },
    {
      "cell_type": "code",
      "metadata": {
        "trusted": true,
        "id": "4fAUIeHBGfq8"
      },
      "source": [
        "# Functions for Uplift\n",
        "from sklearn.model_selection import train_test_split\n",
        "import xgboost as xgb\n",
        "def uplift_split(df_model:pd.DataFrame):\n",
        "    \"\"\"Train-Test Split\n",
        "    \"\"\"\n",
        "    X = df_model.drop(['target','target_class'],axis=1)\n",
        "    y = df_model.target_class\n",
        "    X_train, X_test, \\\n",
        "    y_train, y_test  = train_test_split(X,\n",
        "                                       y,\n",
        "                                       test_size=0.3,\n",
        "                                       random_state=42,\n",
        "                                       stratify=df_model['treatment'])\n",
        "    return X_train,X_test, y_train, y_test\n",
        "\n",
        "\n",
        "def uplift_model(X_train:pd.DataFrame,\n",
        "                 X_test:pd.DataFrame,\n",
        "                 y_train:pd.DataFrame,\n",
        "                 y_test:pd.DataFrame):\n",
        "    \"\"\"Using XGB to get the uplift score\n",
        "    \"\"\"\n",
        "    # Create new dataframe\n",
        "    result = pd.DataFrame(X_test).copy()    \n",
        "    # Fit the model\n",
        "    uplift_model \\\n",
        "    = xgb.XGBClassifier().fit(X_train.drop('treatment', axis=1), y_train)\n",
        "    \n",
        "    \n",
        "    # Predict using test-data\n",
        "    uplift_proba \\\n",
        "    = uplift_model.predict_proba(X_test.drop('treatment', axis=1))\n",
        "    result['proba_CN'] = uplift_proba[:,0] \n",
        "    result['proba_CR'] = uplift_proba[:,1] \n",
        "    result['proba_TN'] = uplift_proba[:,2] \n",
        "    result['proba_TR'] = uplift_proba[:,3]\n",
        "    result['uplift_score'] = result.eval('\\\n",
        "    proba_CN/(proba_CN+proba_CR) \\\n",
        "    + proba_TR/(proba_TN+proba_TR) \\\n",
        "    - proba_TN/(proba_TN+proba_TR) \\\n",
        "    - proba_CR/(proba_CN+proba_CR)')  \n",
        "    # Put the result \n",
        "    result['target_class'] = y_test\n",
        "    return result\n",
        "\n",
        "\n",
        "def uplift(df_model:pd.DataFrame):\n",
        "    \"\"\"Combine the split and Modeling function\n",
        "    \"\"\"\n",
        "    X_train, X_test, y_train, y_test = uplift_split(df_model)\n",
        "    result = uplift_model(X_train, X_test, y_train, y_test)\n",
        "    return result"
      ],
      "execution_count": 15,
      "outputs": []
    },
    {
      "cell_type": "code",
      "metadata": {
        "trusted": true,
        "id": "3AdKKn64Gfq-"
      },
      "source": [
        "# Run the uplift function\n",
        "bogo_uplift = uplift(df_model_bogo)\n",
        "discount_uplift = uplift(df_model_discount)"
      ],
      "execution_count": 16,
      "outputs": []
    },
    {
      "cell_type": "markdown",
      "metadata": {
        "id": "BEQe3dQpGfq_"
      },
      "source": [
        "# Evaluation - QINI Curve\n",
        "Qini is a generalization of gini curve for Uplift model, introduced by [Radcliffe](https://www.google.com/url?sa=t&rct=j&q=&esrc=s&source=web&cd=1&cad=rja&uact=8&ved=2ahUKEwj_lZbfkNHoAhU_8XMBHYMBBUAQFjAAegQICBAC&url=https%3A%2F%2Fwww.semanticscholar.org%2Fpaper%2FUsing-control-groups-to-target-on-predicted-lift%253A-Radcliffe%2F147b32f3d56566c8654a9999c5477dded233328e&usg=AOvVaw3FuLoBYIejr_plj6oAE27o). The QINI (Uplift value) can be calculated as: \n",
        "> **QINI = TR - [(CR*T)/C]**\n",
        "\n",
        "Thus can be normalized in percentage as: \n",
        "> **QINI = (TR/T) - (CR/C)**"
      ]
    },
    {
      "cell_type": "code",
      "metadata": {
        "trusted": true,
        "id": "-K-qW7FuGfq_"
      },
      "source": [
        "# Functions to build the Uplift model and visualize the QINI Curve\n",
        "def qini_rank(uplift:pd.DataFrame):\n",
        "    \"\"\"Rank the data by the uplift score\n",
        "    \"\"\"\n",
        "    # Creat new dataframe\n",
        "    ranked = pd.DataFrame({'n':[], 'target_class':[]})\n",
        "    ranked['target_class'] = uplift['target_class']\n",
        "    ranked['uplift_score'] = uplift['uplift_score']\n",
        "    \n",
        "    \n",
        "    # Add proportion\n",
        "    ranked['n'] = ranked.uplift_score.rank(pct=True, ascending=False)\n",
        "    # Data Ranking   \n",
        "    ranked = ranked.sort_values(by='n').reset_index(drop=True)\n",
        "    return ranked\n",
        "\n",
        "\n",
        "def qini_eval(ranked:pd.DataFrame):\n",
        "    \"\"\"Evaluate the uplift value with the QINI criterion\n",
        "    \"\"\"\n",
        "    uplift_model, random_model = ranked.copy(), ranked.copy()\n",
        "    # Using Treatment and Control Group to calculate the uplift (Incremental gain)\n",
        "    C, T = sum(ranked['target_class'] <= 1), sum(ranked['target_class'] >= 2)\n",
        "    ranked['cr'] = 0\n",
        "    ranked['tr'] = 0\n",
        "    ranked.loc[ranked.target_class == 1,'cr'] = 1\n",
        "    ranked.loc[ranked.target_class == 3,'tr'] = 1\n",
        "    ranked['cr/c'] = ranked.cr.cumsum() / C\n",
        "    ranked['tr/t'] = ranked.tr.cumsum() / T\n",
        "    # Calculate and put the uplift and random value into dataframe\n",
        "    uplift_model['uplift'] = round(ranked['tr/t'] - ranked['cr/c'],5)\n",
        "    random_model['uplift'] = round(ranked['n'] * uplift_model['uplift'].iloc[-1],5)\n",
        "    \n",
        "    \n",
        "    # Add q0\n",
        "    q0 = pd.DataFrame({'n':0, 'uplift':0, 'target_class': None}, index =[0])\n",
        "    uplift_model = pd.concat([q0, uplift_model]).reset_index(drop = True)\n",
        "    random_model = pd.concat([q0, random_model]).reset_index(drop = True)  \n",
        "    # Add model name & concat\n",
        "    uplift_model['model'] = 'Uplift model'\n",
        "    random_model['model'] = 'Random model'\n",
        "    merged = pd.concat([uplift_model, random_model]).sort_values(by='n').reset_index(drop = True)\n",
        "    return merged\n",
        "\n",
        "\n",
        "def qini_plot(merged:pd.DataFrame):\n",
        "    \"\"\"Plot the QINI\n",
        "    \"\"\"\n",
        "    # plot the data\n",
        "    ax = sns.lineplot(x='n', y='uplift', hue='model', data=merged,\n",
        "                      style='model', palette=['red','grey'])\n",
        "    \n",
        "    \n",
        "    # Plot settings\n",
        "    sns.set_style('whitegrid')\n",
        "    handles, labels = ax.get_legend_handles_labels()\n",
        "    plt.xlabel('Proportion targeted',fontsize=15)\n",
        "    plt.ylabel('Uplift',fontsize=15)\n",
        "    plt.subplots_adjust(right=1)\n",
        "    plt.subplots_adjust(top=1)\n",
        "    plt.legend(fontsize=12)\n",
        "    ax.tick_params(labelsize=15)\n",
        "    ax.legend(handles=handles[1:], labels=labels[1:], loc='upper right')\n",
        "    return ax\n",
        "\n",
        "\n",
        "def qini(uplift:pd.DataFrame):\n",
        "    \"\"\"Combine all functions\n",
        "    \"\"\"\n",
        "    ranked = qini_rank(uplift)\n",
        "    merged = qini_eval(ranked)\n",
        "    ax = qini_plot(merged)\n",
        "    return ax"
      ],
      "execution_count": 17,
      "outputs": []
    },
    {
      "cell_type": "markdown",
      "metadata": {
        "id": "Pov90jxRGfrA"
      },
      "source": [
        "# Result\n",
        "The QINI curve as shown below visualize the performance of Uplift model in targeting the right customers from the test-data.\n",
        "The results show that the Uplift model can give more uplift than random model (without model)."
      ]
    },
    {
      "cell_type": "code",
      "metadata": {
        "trusted": true,
        "colab": {
          "base_uri": "https://localhost:8080/",
          "height": 361
        },
        "id": "_k2eb_gaGfrA",
        "outputId": "5975588d-1550-4127-8fa2-38657adc6ecf"
      },
      "source": [
        "# plot the Qini curve for BOGO treatment\n",
        "qini(bogo_uplift)\n",
        "plt.title('Qini Curve - Buy One Get One',fontsize=20)"
      ],
      "execution_count": 18,
      "outputs": [
        {
          "output_type": "execute_result",
          "data": {
            "text/plain": [
              "Text(0.5, 1.0, 'Qini Curve - Buy One Get One')"
            ]
          },
          "metadata": {},
          "execution_count": 18
        },
        {
          "output_type": "display_data",
          "data": {
            "image/png": "[encoded data removed]",
            "text/plain": [
              "<Figure size 432x288 with 1 Axes>"
            ]
          },
          "metadata": {
            "needs_background": "light"
          }
        }
      ]
    },
    {
      "cell_type": "code",
      "metadata": {
        "trusted": true,
        "colab": {
          "base_uri": "https://localhost:8080/",
          "height": 361
        },
        "id": "thz6FvP1GfrA",
        "outputId": "089daab5-17bd-4781-98ed-86e6ad424f02"
      },
      "source": [
        "# plot the Qini curve for Discount treatment\n",
        "qini(discount_uplift)\n",
        "plt.title('Qini Curve - Discount',fontsize=20)"
      ],
      "execution_count": 19,
      "outputs": [
        {
          "output_type": "execute_result",
          "data": {
            "text/plain": [
              "Text(0.5, 1.0, 'Qini Curve - Discount')"
            ]
          },
          "metadata": {},
          "execution_count": 19
        },
        {
          "output_type": "display_data",
          "data": {
            "image/png": "[encoded data removed]",
            "text/plain": [
              "<Figure size 432x288 with 1 Axes>"
            ]
          },
          "metadata": {}
        }
      ]
    }
  ]
}